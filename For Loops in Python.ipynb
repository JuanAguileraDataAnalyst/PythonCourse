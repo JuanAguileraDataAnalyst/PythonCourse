{
 "cells": [
  {
   "cell_type": "markdown",
   "id": "29310b08-4eac-4a82-a79a-1200f59433b5",
   "metadata": {},
   "source": [
    "# Syntax of For Loops"
   ]
  },
  {
   "cell_type": "code",
   "execution_count": 1,
   "id": "c4c51277-21f4-466f-8f57-78fbbb984bbc",
   "metadata": {},
   "outputs": [],
   "source": [
    "integers = [1,2,3,4,5]"
   ]
  },
  {
   "cell_type": "code",
   "execution_count": 2,
   "id": "c8d0d25f-2c92-41f9-b91c-d043d2d09ff0",
   "metadata": {},
   "outputs": [
    {
     "name": "stdout",
     "output_type": "stream",
     "text": [
      "1\n",
      "2\n",
      "3\n",
      "4\n",
      "5\n"
     ]
    }
   ],
   "source": [
    "for number in integers:\n",
    "    print(number)"
   ]
  },
  {
   "cell_type": "code",
   "execution_count": 5,
   "id": "abff251d-ccab-4dda-b79b-c58ad914e2ed",
   "metadata": {},
   "outputs": [
    {
     "name": "stdout",
     "output_type": "stream",
     "text": [
      "yep!\n",
      "yep!\n",
      "yep!\n",
      "yep!\n",
      "yep!\n"
     ]
    }
   ],
   "source": [
    "for number in integers:\n",
    "    print('yep!')"
   ]
  },
  {
   "cell_type": "code",
   "execution_count": 6,
   "id": "74c1da6a-e2e0-44bf-92b4-c8d7ebea67eb",
   "metadata": {},
   "outputs": [],
   "source": [
    "integers = [1,2,3,4,5]"
   ]
  },
  {
   "cell_type": "code",
   "execution_count": 7,
   "id": "c9ef41db-5351-4a85-9799-b6241ebcbe8d",
   "metadata": {},
   "outputs": [
    {
     "name": "stdout",
     "output_type": "stream",
     "text": [
      "2\n",
      "4\n",
      "6\n",
      "8\n",
      "10\n"
     ]
    }
   ],
   "source": [
    "for Jelly in integers:\n",
    "    print(Jelly + Jelly)"
   ]
  },
  {
   "cell_type": "code",
   "execution_count": 12,
   "id": "7f1c4d33-7157-4629-9c06-2827983df3c6",
   "metadata": {},
   "outputs": [],
   "source": [
    "ice_cream_dict = {'name': 'Alex freberg', 'Weekly intake': 5, 'Favorite ice creams': ['MMC', 'Chocolate']}"
   ]
  },
  {
   "cell_type": "code",
   "execution_count": 14,
   "id": "016740e8-2d44-43bc-bd1e-9c496bf3ee7f",
   "metadata": {},
   "outputs": [
    {
     "name": "stdout",
     "output_type": "stream",
     "text": [
      "Alex freberg\n",
      "5\n",
      "['MMC', 'Chocolate']\n"
     ]
    }
   ],
   "source": [
    "for cream in ice_cream_dict.values():\n",
    "    print(cream)"
   ]
  },
  {
   "cell_type": "markdown",
   "id": "3412edc4-3eba-40f6-a7aa-f588bab53f4a",
   "metadata": {},
   "source": [
    "## Looping Through a Dictionary"
   ]
  },
  {
   "cell_type": "code",
   "execution_count": 15,
   "id": "619f5dbe-3afc-41b6-848e-db0f72c88baf",
   "metadata": {},
   "outputs": [
    {
     "name": "stdout",
     "output_type": "stream",
     "text": [
      "name -> ['MMC', 'Chocolate']\n",
      "Weekly intake -> ['MMC', 'Chocolate']\n",
      "Favorite ice creams -> ['MMC', 'Chocolate']\n"
     ]
    }
   ],
   "source": [
    "for key, value in ice_cream_dict.items():\n",
    "    print(key, '->',cream)"
   ]
  },
  {
   "cell_type": "markdown",
   "id": "7cc2c7ff-62dd-48d8-b221-d950c0e4c710",
   "metadata": {},
   "source": [
    "## Nested For Loops"
   ]
  },
  {
   "cell_type": "code",
   "execution_count": 22,
   "id": "6e5fb0c4-0724-4ea0-ab3e-947e9338fbde",
   "metadata": {},
   "outputs": [],
   "source": [
    "flavors = ['vanilla', 'Chocolate', 'Cookie Dough']\n",
    "toppings = ['Hot Fudge', 'Oreos', 'Marshmallows']"
   ]
  },
  {
   "cell_type": "code",
   "execution_count": 26,
   "id": "62b48f46-abbe-4553-9aac-fe68347a8ea5",
   "metadata": {},
   "outputs": [
    {
     "name": "stdout",
     "output_type": "stream",
     "text": [
      "vanilla topped with Hot Fudge\n",
      "vanilla topped with Oreos\n",
      "vanilla topped with Marshmallows\n",
      "Chocolate topped with Hot Fudge\n",
      "Chocolate topped with Oreos\n",
      "Chocolate topped with Marshmallows\n",
      "Cookie Dough topped with Hot Fudge\n",
      "Cookie Dough topped with Oreos\n",
      "Cookie Dough topped with Marshmallows\n"
     ]
    }
   ],
   "source": [
    "for one in flavors:\n",
    "    for two in toppings:\n",
    "        print(one, 'topped with',two)\n",
    "      "
   ]
  }
 ],
 "metadata": {
  "kernelspec": {
   "display_name": "Python 3 (ipykernel)",
   "language": "python",
   "name": "python3"
  },
  "language_info": {
   "codemirror_mode": {
    "name": "ipython",
    "version": 3
   },
   "file_extension": ".py",
   "mimetype": "text/x-python",
   "name": "python",
   "nbconvert_exporter": "python",
   "pygments_lexer": "ipython3",
   "version": "3.11.7"
  }
 },
 "nbformat": 4,
 "nbformat_minor": 5
}
