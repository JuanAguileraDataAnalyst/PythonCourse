{
 "cells": [
  {
   "cell_type": "markdown",
   "id": "5dbc2d25-ec83-4a95-b032-88e3f0fe0953",
   "metadata": {},
   "source": [
    "# Functions"
   ]
  },
  {
   "cell_type": "markdown",
   "id": "7e7d7af2-569b-447d-83f1-866a5352ffb1",
   "metadata": {},
   "source": [
    "## Syntax of Function"
   ]
  },
  {
   "cell_type": "code",
   "execution_count": 2,
   "id": "7ccaed6a-6abf-4b38-963d-78630ff21f7a",
   "metadata": {},
   "outputs": [],
   "source": [
    "def first_func():\n",
    "    print('We did it!')"
   ]
  },
  {
   "cell_type": "code",
   "execution_count": 3,
   "id": "284dfb45-07f4-4879-b395-7d894b26ed42",
   "metadata": {},
   "outputs": [
    {
     "name": "stdout",
     "output_type": "stream",
     "text": [
      "We did it!\n"
     ]
    }
   ],
   "source": [
    "first_func()"
   ]
  },
  {
   "cell_type": "markdown",
   "id": "7adea6c8-619e-4f39-a2f3-8026beafe459",
   "metadata": {},
   "source": [
    "## Arguments in Functions"
   ]
  },
  {
   "cell_type": "code",
   "execution_count": 4,
   "id": "62c1a2ee-a39c-477f-b67c-9cf73587d1b1",
   "metadata": {},
   "outputs": [],
   "source": [
    "def number_squared(number):\n",
    "    print(number**2)"
   ]
  },
  {
   "cell_type": "code",
   "execution_count": 5,
   "id": "bd418b2f-9f83-4e39-b1cb-daea421f7061",
   "metadata": {},
   "outputs": [
    {
     "name": "stdout",
     "output_type": "stream",
     "text": [
      "25\n"
     ]
    }
   ],
   "source": [
    "number_squared(5)"
   ]
  },
  {
   "cell_type": "markdown",
   "id": "d1c621f2-d926-4bca-93be-2fd03776e2bc",
   "metadata": {},
   "source": [
    "## Multiple Arguments"
   ]
  },
  {
   "cell_type": "code",
   "execution_count": 6,
   "id": "c0738941-d49f-4086-838c-ec273fc87f16",
   "metadata": {},
   "outputs": [],
   "source": [
    "def number_squared_cust(number,power):\n",
    "    print(number**power)"
   ]
  },
  {
   "cell_type": "code",
   "execution_count": 7,
   "id": "a14ec16a-c895-4c21-9f09-1b4f24b7d787",
   "metadata": {},
   "outputs": [
    {
     "name": "stdout",
     "output_type": "stream",
     "text": [
      "125\n"
     ]
    }
   ],
   "source": [
    "number_squared_cust(5,3)"
   ]
  },
  {
   "cell_type": "markdown",
   "id": "f26e4c9b-e6e0-4946-8c15-08ea1cc57a9e",
   "metadata": {},
   "source": [
    "## Arbitary Arguments"
   ]
  },
  {
   "cell_type": "code",
   "execution_count": 8,
   "id": "67ed1075-e6ef-414e-8189-e7d41d0037d4",
   "metadata": {},
   "outputs": [],
   "source": [
    "def number_args(*number):\n",
    "    print(number[0]*number[1])    "
   ]
  },
  {
   "cell_type": "code",
   "execution_count": 9,
   "id": "7f7d03da-3925-4344-95ac-6ecd005a3f3f",
   "metadata": {},
   "outputs": [
    {
     "name": "stdout",
     "output_type": "stream",
     "text": [
      "30\n"
     ]
    }
   ],
   "source": [
    "number_args(5,6,1,2,8)"
   ]
  },
  {
   "cell_type": "code",
   "execution_count": 10,
   "id": "b7be2f4f-2807-4b14-94a8-0e0f8fa44559",
   "metadata": {},
   "outputs": [],
   "source": [
    "args_tuple = (5,6,1,2,8)\n",
    "\n",
    "def number_args(*number):\n",
    "    print(number[0]*number[1])    "
   ]
  },
  {
   "cell_type": "code",
   "execution_count": 11,
   "id": "7c8de65d-f8e5-46b2-b10b-67016b9e1b03",
   "metadata": {},
   "outputs": [
    {
     "name": "stdout",
     "output_type": "stream",
     "text": [
      "30\n"
     ]
    }
   ],
   "source": [
    "number_args(*args_tuple)"
   ]
  },
  {
   "cell_type": "markdown",
   "id": "7f696fce-679d-4212-b363-0852cb0b4df8",
   "metadata": {},
   "source": [
    "## Keyword Argument"
   ]
  },
  {
   "cell_type": "code",
   "execution_count": 12,
   "id": "a703834f-df53-43ee-a9f8-3b52b7b50961",
   "metadata": {},
   "outputs": [],
   "source": [
    "def number_squared_cust(number,power):\n",
    "    print(number**power)"
   ]
  },
  {
   "cell_type": "code",
   "execution_count": 13,
   "id": "2981ed40-2423-47ad-8362-75edcf5aa90c",
   "metadata": {},
   "outputs": [
    {
     "name": "stdout",
     "output_type": "stream",
     "text": [
      "243\n"
     ]
    }
   ],
   "source": [
    "number_squared_cust(power = 5,number = 3)"
   ]
  },
  {
   "cell_type": "markdown",
   "id": "7d3d5f12-9f3f-42ac-9302-0e857a17e9ac",
   "metadata": {},
   "source": [
    "## Arbitary Keywords Arguments"
   ]
  },
  {
   "cell_type": "code",
   "execution_count": 17,
   "id": "867b8d71-8d59-4d28-a656-e00e2c849e0c",
   "metadata": {},
   "outputs": [],
   "source": [
    "def number_kwarg(**number):\n",
    "    print('My number is: ' + number['integer'])"
   ]
  },
  {
   "cell_type": "code",
   "execution_count": 18,
   "id": "252d8cca-6c04-476f-bd3d-6264fce28dc9",
   "metadata": {},
   "outputs": [
    {
     "name": "stdout",
     "output_type": "stream",
     "text": [
      "My number is: 2309\n"
     ]
    }
   ],
   "source": [
    "number_kwarg(integer = '2309')"
   ]
  },
  {
   "cell_type": "code",
   "execution_count": 22,
   "id": "c7a75a54-12da-46a5-bbd6-327c3ef49418",
   "metadata": {},
   "outputs": [],
   "source": [
    "def number_kwarg(**number):\n",
    "    print('My number is: ' + number['integer'] + ' My other number is:  '+ number['integer2'])"
   ]
  },
  {
   "cell_type": "code",
   "execution_count": 23,
   "id": "50808026-4dcb-4611-9e33-e7a79d3a60b3",
   "metadata": {},
   "outputs": [
    {
     "name": "stdout",
     "output_type": "stream",
     "text": [
      "My number is: 2309 My other number is:  349\n"
     ]
    }
   ],
   "source": [
    "number_kwarg(integer = '2309', integer2 = '349')"
   ]
  }
 ],
 "metadata": {
  "kernelspec": {
   "display_name": "Python 3 (ipykernel)",
   "language": "python",
   "name": "python3"
  },
  "language_info": {
   "codemirror_mode": {
    "name": "ipython",
    "version": 3
   },
   "file_extension": ".py",
   "mimetype": "text/x-python",
   "name": "python",
   "nbconvert_exporter": "python",
   "pygments_lexer": "ipython3",
   "version": "3.11.7"
  }
 },
 "nbformat": 4,
 "nbformat_minor": 5
}
