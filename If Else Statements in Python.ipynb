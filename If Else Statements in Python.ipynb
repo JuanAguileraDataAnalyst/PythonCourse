{
 "cells": [
  {
   "cell_type": "markdown",
   "id": "42cc3006",
   "metadata": {},
   "source": [
    "# If - Elif - Else Statements"
   ]
  },
  {
   "cell_type": "markdown",
   "id": "163675e1",
   "metadata": {},
   "source": [
    "## Syntax of If Statement"
   ]
  },
  {
   "cell_type": "code",
   "execution_count": 3,
   "id": "b9d9e575",
   "metadata": {},
   "outputs": [
    {
     "name": "stdout",
     "output_type": "stream",
     "text": [
      "It work!\n"
     ]
    }
   ],
   "source": [
    "if 25 > 10:\n",
    "    print('It work!')"
   ]
  },
  {
   "cell_type": "markdown",
   "id": "9c963a75",
   "metadata": {},
   "source": [
    "## If/Else Statement"
   ]
  },
  {
   "cell_type": "code",
   "execution_count": 2,
   "id": "acec41e8",
   "metadata": {},
   "outputs": [
    {
     "name": "stdout",
     "output_type": "stream",
     "text": [
      "It did not work...\n"
     ]
    }
   ],
   "source": [
    "if 25 < 10:\n",
    "    print('It work!')\n",
    "else: \n",
    "    print('It did not work...')"
   ]
  },
  {
   "cell_type": "code",
   "execution_count": 4,
   "id": "794d24aa",
   "metadata": {},
   "outputs": [
    {
     "name": "stdout",
     "output_type": "stream",
     "text": [
      "It work!\n"
     ]
    }
   ],
   "source": [
    "if 25 > 10:\n",
    "    print('It work!')\n",
    "else: \n",
    "    print('It did not work...')"
   ]
  },
  {
   "cell_type": "markdown",
   "id": "57e25e0b",
   "metadata": {},
   "source": [
    "## If/Elif/Else Statement"
   ]
  },
  {
   "cell_type": "code",
   "execution_count": 7,
   "id": "6f6472eb",
   "metadata": {},
   "outputs": [
    {
     "name": "stdout",
     "output_type": "stream",
     "text": [
      "elif worked!\n"
     ]
    }
   ],
   "source": [
    "if 25 < 10:\n",
    "    print('It work!')\n",
    "elif 25 < 30:\n",
    "    print('elif worked!')\n",
    "else: \n",
    "    print('It did not work...')"
   ]
  },
  {
   "cell_type": "code",
   "execution_count": 8,
   "id": "8a442045",
   "metadata": {},
   "outputs": [
    {
     "name": "stdout",
     "output_type": "stream",
     "text": [
      "elif 3 worked!\n"
     ]
    }
   ],
   "source": [
    "if 25 < 10:\n",
    "    print('It work!')\n",
    "elif 25 < 20:\n",
    "    print('elif worked!')\n",
    "elif 25 < 21:\n",
    "    print('elif 2 worked!')\n",
    "elif 25 < 40:\n",
    "    print('elif 3 worked!')\n",
    "elif 25 < 50:\n",
    "    print('elif 4 worked!')\n",
    "else: \n",
    "    print('It did not work...')"
   ]
  },
  {
   "cell_type": "code",
   "execution_count": 11,
   "id": "1795413a",
   "metadata": {},
   "outputs": [
    {
     "name": "stdout",
     "output_type": "stream",
     "text": [
      "It work!\n"
     ]
    }
   ],
   "source": [
    "if (25 < 10) or (1 < 3) :\n",
    "    print('It work!')\n",
    "elif 25 < 20:\n",
    "    print('elif worked!')\n",
    "elif 25 < 21:\n",
    "    print('elif 2 worked!')\n",
    "elif 25 < 40:\n",
    "    print('elif 3 worked!')\n",
    "elif 25 < 50:\n",
    "    print('elif 4 worked!')\n",
    "else: \n",
    "    print('It did not work...')"
   ]
  },
  {
   "cell_type": "markdown",
   "id": "91ed3a5a",
   "metadata": {},
   "source": [
    "## If/Else Statement on One Line"
   ]
  },
  {
   "cell_type": "code",
   "execution_count": 12,
   "id": "2387483a",
   "metadata": {},
   "outputs": [
    {
     "name": "stdout",
     "output_type": "stream",
     "text": [
      "It did not work...\n"
     ]
    }
   ],
   "source": [
    "print('It worked') if 10>30 else print('It did not work...')"
   ]
  },
  {
   "cell_type": "markdown",
   "id": "5c8902bf",
   "metadata": {},
   "source": [
    "## Nested If/Else Statement"
   ]
  },
  {
   "cell_type": "code",
   "execution_count": 14,
   "id": "e44e02bd",
   "metadata": {},
   "outputs": [
    {
     "name": "stdout",
     "output_type": "stream",
     "text": [
      "It work!\n",
      "This nested if Statement work\n"
     ]
    }
   ],
   "source": [
    "if (25 < 10) or (1 < 3) :\n",
    "    print('It work!')\n",
    "    if 10>5:\n",
    "        print('This nested if Statement work')\n",
    "elif 25 < 20:\n",
    "    print('elif worked!')\n",
    "elif 25 < 21:\n",
    "    print('elif 2 worked!')\n",
    "elif 25 < 40:\n",
    "    print('elif 3 worked!')\n",
    "elif 25 < 50:\n",
    "    print('elif 4 worked!')\n",
    "else: \n",
    "    print('It did not work...')"
   ]
  }
 ],
 "metadata": {
  "kernelspec": {
   "display_name": "Python 3 (ipykernel)",
   "language": "python",
   "name": "python3"
  },
  "language_info": {
   "codemirror_mode": {
    "name": "ipython",
    "version": 3
   },
   "file_extension": ".py",
   "mimetype": "text/x-python",
   "name": "python",
   "nbconvert_exporter": "python",
   "pygments_lexer": "ipython3",
   "version": "3.11.7"
  }
 },
 "nbformat": 4,
 "nbformat_minor": 5
}
