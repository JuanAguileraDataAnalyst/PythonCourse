{
 "cells": [
  {
   "cell_type": "markdown",
   "id": "fc88c747-40e1-4776-8e5c-032ff621402b",
   "metadata": {},
   "source": [
    "# Syntax for While Loops"
   ]
  },
  {
   "cell_type": "code",
   "execution_count": 2,
   "id": "349b9d06-3b5f-4c92-a224-32f5f99e8207",
   "metadata": {},
   "outputs": [
    {
     "name": "stdout",
     "output_type": "stream",
     "text": [
      "0\n",
      "1\n",
      "2\n",
      "3\n",
      "4\n"
     ]
    }
   ],
   "source": [
    "number = 0\n",
    "\n",
    "while number < 5:\n",
    "    print(number)\n",
    "    number = number + 1"
   ]
  },
  {
   "cell_type": "markdown",
   "id": "305bb908-6022-4af9-b324-2d2f5a33e473",
   "metadata": {},
   "source": [
    "## Break Statement in While loops"
   ]
  },
  {
   "cell_type": "code",
   "execution_count": 3,
   "id": "bfa53231-c7ef-4904-aa22-86f5cab29bef",
   "metadata": {},
   "outputs": [
    {
     "name": "stdout",
     "output_type": "stream",
     "text": [
      "0\n",
      "1\n",
      "2\n",
      "3\n"
     ]
    }
   ],
   "source": [
    "number = 0\n",
    "\n",
    "while number < 5:\n",
    "    print(number)\n",
    "    if number == 3:\n",
    "        break\n",
    "    number = number + 1"
   ]
  },
  {
   "cell_type": "markdown",
   "id": "65d933e0-3551-49fb-8e41-5cea8a2cd2ac",
   "metadata": {},
   "source": [
    "## Else Statement in While loops"
   ]
  },
  {
   "cell_type": "code",
   "execution_count": 4,
   "id": "30ed80fa-5d45-4e61-a420-4d160acb3658",
   "metadata": {},
   "outputs": [
    {
     "name": "stdout",
     "output_type": "stream",
     "text": [
      "0\n",
      "1\n",
      "2\n",
      "3\n",
      "4\n",
      "No longer < 5\n"
     ]
    }
   ],
   "source": [
    "number = 0\n",
    "\n",
    "while number < 5:\n",
    "    print(number)\n",
    "    if number == 6:\n",
    "        break\n",
    "    number = number + 1\n",
    "else: \n",
    "    print('No longer < 5') "
   ]
  },
  {
   "cell_type": "markdown",
   "id": "69558c47-9e9e-4d19-a8a9-c1456df07976",
   "metadata": {},
   "source": [
    "## Continue Statement in While loops"
   ]
  },
  {
   "cell_type": "code",
   "execution_count": 2,
   "id": "3393e64c-5f74-443b-9013-0ba4ed8ff79f",
   "metadata": {},
   "outputs": [
    {
     "name": "stdout",
     "output_type": "stream",
     "text": [
      "1\n",
      "2\n",
      "4\n",
      "5\n",
      "No longer < 5\n"
     ]
    }
   ],
   "source": [
    "number = 0\n",
    "\n",
    "while number < 5:\n",
    "    number = number + 1\n",
    "    if number == 3:\n",
    "        continue\n",
    "    print(number)\n",
    "else: \n",
    "    print('No longer < 5') "
   ]
  }
 ],
 "metadata": {
  "kernelspec": {
   "display_name": "Python 3 (ipykernel)",
   "language": "python",
   "name": "python3"
  },
  "language_info": {
   "codemirror_mode": {
    "name": "ipython",
    "version": 3
   },
   "file_extension": ".py",
   "mimetype": "text/x-python",
   "name": "python",
   "nbconvert_exporter": "python",
   "pygments_lexer": "ipython3",
   "version": "3.11.7"
  }
 },
 "nbformat": 4,
 "nbformat_minor": 5
}
